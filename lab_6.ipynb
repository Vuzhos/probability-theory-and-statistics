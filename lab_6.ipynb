{
 "cells": [
  {
   "cell_type": "markdown",
   "id": "e46e078b-433a-470d-8033-f5668da1f0e1",
   "metadata": {},
   "source": [
    "### Тема: Проверка гипотез о значениях параметров распределения генеральной совокупности\n",
    "\n",
    "**Выполнил**: Лежнин Максим Витальевич (ПМ-31)\n",
    "\n",
    "**Преподаватель**: Олейник Т.А., кафедра ВМ-1\n",
    "\n",
    "###### Практическая работа № **6**, вариант № **3**\n",
    "\n",
    "###### Осенний семестр, 2023 год\n",
    "\n",
    "###### МИЭТ, Зеленоград"
   ]
  },
  {
   "cell_type": "markdown",
   "id": "ce13a4d4-adea-4ff2-b3ea-269304d64b4c",
   "metadata": {},
   "source": [
    "### Библиотеки"
   ]
  },
  {
   "cell_type": "code",
   "execution_count": 1,
   "id": "5a0a5a35-e46d-4e35-9676-13886e2f62e6",
   "metadata": {},
   "outputs": [],
   "source": [
    "import numpy as np\n",
    "import math\n",
    "import scipy.stats as sts\n",
    "import scipy.special as sc\n",
    "import scipy.integrate as integrate\n",
    "import matplotlib.pyplot as plt"
   ]
  },
  {
   "cell_type": "markdown",
   "id": "db0f465d-5b04-409f-9575-efa6eb7cf205",
   "metadata": {},
   "source": [
    "### Задание 1\n",
    "Смоделируйте выборку объема $n = 100$ из нормально распределенной генеральной совокупности с параметрами $m_0,\\, \\sigma_0$ (значение этих параметров возьмите равным длине вашего имени и фамилии соотвественно) и далее используйте ее в качестве опытнх данных.\n",
    "\n",
    "Задача состоит в проверке гипотезы $H_0:\\, m = m_0$ при неизвестной дисперсии. Сформулируйте двустороннюю альтернативу, выберите статистику, укажите ее закон распределения. Вычислите $p$ - значение и найдите диапазон значений $\\alpha$, при которых основная гипотеза принимается.\n",
    "\n",
    "Задание выполните двумя способами: без использования имеющейся в языке программирования Python функции проверки параметрических гипотез и воспользовавшисьфункцией ttest_1samp. Сопоставьте результаты."
   ]
  },
  {
   "cell_type": "markdown",
   "id": "78fcde7b-ae5b-4029-936d-5bcbf14441b2",
   "metadata": {},
   "source": [
    "Подходящая статистика:\n",
    "$$W = \\frac{\\bar{X} - m_0}{S/\\sqrt{n}} \\sim St(n - 1)$$"
   ]
  },
  {
   "cell_type": "code",
   "execution_count": 2,
   "id": "1007b026-5101-4d75-8826-3ae09b36e3ff",
   "metadata": {},
   "outputs": [],
   "source": [
    "# статистика для математического ожидания при неизвестной дисперсии\n",
    "# для нормального распределения\n",
    "def stat_criteria_1(sample, m_0):\n",
    "    n = len(sample)\n",
    "    S = np.sqrt(n / (n - 1) * np.var(sample))\n",
    "    \n",
    "    return (np.mean(sample) - m_0) / (S / np.sqrt(n))"
   ]
  },
  {
   "cell_type": "code",
   "execution_count": 3,
   "id": "296dfc73-dc26-4f2d-8070-c58a635c4d59",
   "metadata": {},
   "outputs": [
    {
     "name": "stdout",
     "output_type": "stream",
     "text": [
      "Значение p, посчитанное мной: 0.15417308347188619\n",
      "Значение p, посчитанное функцией: 0.1541730834718862\n"
     ]
    }
   ],
   "source": [
    "# размер выборки\n",
    "sample_size = 100\n",
    "\n",
    "# параметры нормального распределения\n",
    "m = len(\"Максим\")\n",
    "sig = len(\"Лежнин\")\n",
    "\n",
    "# нормальная выборка\n",
    "sample = np.random.normal(m, sig, sample_size)\n",
    "\n",
    "# гипотеза H_0\n",
    "m_0 = m\n",
    "\n",
    "# выборочное значение статистики\n",
    "ssv = stat_criteria_1(sample, m_0)\n",
    "\n",
    "# считаю значение p двумя способами\n",
    "p_1 = 2 * min(sts.t(df=sample_size - 1).cdf(ssv), \n",
    "              1 - sts.t(df=sample_size - 1).cdf(ssv))\n",
    "p_2 = sts.ttest_1samp(sample, m_0).pvalue\n",
    "\n",
    "# вывод на экран\n",
    "print(f\"Значение p, посчитанное мной: {p_1}\")\n",
    "print(f\"Значение p, посчитанное функцией: {p_2}\")"
   ]
  },
  {
   "cell_type": "markdown",
   "id": "f266541a-5843-4713-a59a-b2da0c41652f",
   "metadata": {},
   "source": [
    "Значения совпадают."
   ]
  },
  {
   "cell_type": "markdown",
   "id": "4c9815da-8f57-4f85-92c7-bc884940a253",
   "metadata": {},
   "source": [
    "### Задание 2\n",
    "Смоделируйте выборку объема $n = 90$ из нормально распределенной генеральной совокупности с параметрами $m_0,\\, \\sigma_0$ (значение этих параметров возьмите равным длине вашего имени и фамилии соотвественно) и далее используйте ее в качестве опытных данных.\n",
    "\n",
    "Задача состоит в проверке гипотезы $H_0:\\, \\sigma = \\sigma_0$ при неизвестном математическом ожидании. Исходя из значения выборочного среднего, сформулируйте подходящую одностороннюю альтернативу, выберите статистику и укажите закон ее распределения.\n",
    "\n",
    "- Не используя имеющиеся в языке программирования Python функции проверки параметрических гипотез, вычислите $p$ - значение и найдите диапазон значений $\\alpha$, при которых основная гипотеза принимается.\n",
    "- Выберите одно из значений $\\alpha$ из найденного диапазона и, исходя из соответствующей этому значению критической области (согласно традиционной методике критической области), вычислите ошибку второго рода."
   ]
  },
  {
   "cell_type": "markdown",
   "id": "d5adcbfe-807d-46cc-b646-4ca773205f75",
   "metadata": {},
   "source": [
    "Подходящая статистика:\n",
    "$$V_2 = \\frac{S^2}{\\sigma_0^2 / (n - 1)} \\sim \\chi^2(n - 1)$$\n",
    "\n",
    "Пусть $Z(X_1,\\, ...,\\, X_n)$ - функция-статистика (написана выше), $G_\\alpha,\\, G_{1 - \\alpha}$ - критическая область и ее дополнение соответственно. Для вычисления $\\alpha_2$ нужно конкретизировать альтернативную гипотезу. То есть наши гипотезы имеют следующий вид: $H_0:\\ \\sigma = \\sigma_0;\\ H_1:\\ \\sigma = \\sigma_1$. Теперь немного формул для $\\alpha_2$:\n",
    "\n",
    "$$\\alpha_2 = P\\{Z \\in G_{1 - \\alpha} | H_1\\}$$\n",
    "\n",
    "Если альтернатива левосторонняя:\n",
    "\n",
    "$$\n",
    "\\begin{align*}\n",
    "&\\alpha_2 = P\\{Z > Z_{\\alpha,\\, H_1}\\} \\\\\n",
    "&\\alpha_2 = 1 - P\\left\\{Z < Z_\\alpha \\frac{\\sigma_0^2}{\\sigma_1^2}\\right\\} \\\\\n",
    "&\\alpha_2 = 1 - F_Z\\left(Z_\\alpha \\frac{\\sigma_0^2}{\\sigma_1^2}\\right)\n",
    "\\end{align*}\n",
    "$$\n",
    "\n",
    "Если альтернатива правосторонняя:\n",
    "\n",
    "$$\n",
    "\\begin{align*}\n",
    "&\\alpha_2 = P\\{Z < Z_{1 - \\alpha,\\, H_1}\\} \\\\\n",
    "&\\alpha_2 = F_Z\\left(Z_{1 - \\alpha} \\frac{\\sigma_0^2}{\\sigma_1^2}\\right)\n",
    "\\end{align*}\n",
    "$$"
   ]
  },
  {
   "cell_type": "code",
   "execution_count": 4,
   "id": "b8987dcc-78a8-474d-9c2d-6ab45a817f7f",
   "metadata": {},
   "outputs": [],
   "source": [
    "# статистика для среднеквадратичного отклонения при неизвестном мат ожидании\n",
    "# для нормального распределения\n",
    "def stat_criteria_2(sample, sig_0):\n",
    "    n = len(sample)\n",
    "    S_sq = n / (n - 1) * np.var(sample)\n",
    "    return S_sq / (sig_0 ** 2 / (n - 1))"
   ]
  },
  {
   "cell_type": "code",
   "execution_count": 5,
   "id": "ba682e26-36b9-4f29-9a3e-53be0da693ad",
   "metadata": {},
   "outputs": [
    {
     "name": "stdout",
     "output_type": "stream",
     "text": [
      "Значение p: 0.26000058326118275\n",
      "Ошибка второго рода: 0.09556611269438797\n"
     ]
    }
   ],
   "source": [
    "# размер выборки\n",
    "sample_size = 90\n",
    "\n",
    "# параметры нормального распределения\n",
    "m = len(\"Максим\")\n",
    "sig = len(\"Лежнин\")\n",
    "\n",
    "# нормальная выборка\n",
    "sample = np.random.normal(m, sig, sample_size)\n",
    "\n",
    "# гипотеза H_0\n",
    "sig_0 = sig\n",
    "\n",
    "# делаю выбор односторонней альтернативной гипотезы\n",
    "right = np.std(sample) > sig_0\n",
    "\n",
    "# критическая область\n",
    "G_a = lambda a: sts.chi2(df=sample_size - 1).ppf(right + a * (-1)**right)\n",
    "\n",
    "# выборочное значение статистики\n",
    "ssv = stat_criteria_2(sample, sig_0)\n",
    "\n",
    "# получаю значение p и вывожу его на экран\n",
    "if right:\n",
    "    p = 1 - sts.chi2(df=sample_size - 1).cdf(ssv)\n",
    "else:\n",
    "    p = sts.chi2(df=sample_size - 1).cdf(ssv)\n",
    "print(f\"Значение p: {p}\")\n",
    "\n",
    "# делаю уровень значимости в 2 раза меньше p\n",
    "a = p / 2\n",
    "\n",
    "# конкретизирую альтернативную гипотезу\n",
    "sig_1 = sig_0 + (-1)**(1 + right)\n",
    "\n",
    "# высчитываю ошибку второго рода по формулам\n",
    "if right:\n",
    "    Z = sts.chi2(sample_size - 1).ppf(1 - a)\n",
    "    a_2 = sts.chi2(sample_size - 1).cdf(Z * (sig_0 / sig_1)**2)\n",
    "else:\n",
    "    Z = sts.chi2(sample_size - 1).ppf(a)\n",
    "    a_2 = 1 - sts.chi2(sample_size - 1).cdf(Z * (sig_0 / sig_1)**2)\n",
    "\n",
    "# вывожу результат на экран\n",
    "print(f\"Ошибка второго рода: {a_2}\")"
   ]
  },
  {
   "cell_type": "markdown",
   "id": "d3bfeda9-489a-4914-8420-16be4481daab",
   "metadata": {},
   "source": [
    "### Задание 3\n",
    "Пусть проверяется гипотеза $H_0:\\, m = m_0$ ($m_0$ - длина вашего имени) на уровне значимости $\\alpha = 0.05$ при альтернатвной гипотезе $H_1:\\, m > m_0$ в предположении, что среднее квадратичное отклонение известно и равно длине вашей фамилии. Рассмотрим три случая:\n",
    "- Используется выборка объема $n = 30$;\n",
    "- Используется выборка объема $n = 60$;\n",
    "- Используется выборка объема $n = 120$;\n",
    "\n",
    "Для каждого случая укажите критическую область проверки гипотезы. Найдите функцию мощности критерия и постройте ее график (диапазон значений $m$ нужно взять таким, чтобы адекватно представить множество возможных значений функции мощности).\n",
    "\n",
    "Ответьте на вопросы: как функция мощности связана с ошибками второго рода? первого рода?"
   ]
  },
  {
   "cell_type": "markdown",
   "id": "b77a3e7a-c7ea-456a-93ba-fa1fe47c0f03",
   "metadata": {},
   "source": [
    "Подходящая статистика:\n",
    "$$U = \\frac{\\bar{X} - m_0}{\\sigma / \\sqrt{n}} \\sim N(0,\\, 1)$$"
   ]
  },
  {
   "cell_type": "code",
   "execution_count": 6,
   "id": "a794726a-b97b-47e0-b034-8c06bde642b3",
   "metadata": {},
   "outputs": [],
   "source": [
    "# функция мощности критерия\n",
    "def power_function(sample, m, sig, m_eval, a):\n",
    "    n = len(sample)\n",
    "    Z = sts.norm(0, 1).ppf(1 - a)\n",
    "    return 1 - sts.norm(0, 1).cdf(Z + (m - m_eval) / (sig / np.sqrt(n)))"
   ]
  },
  {
   "cell_type": "code",
   "execution_count": 7,
   "id": "e8b9f45c-5975-49b5-8e73-b64c1c676c89",
   "metadata": {},
   "outputs": [
    {
     "name": "stdout",
     "output_type": "stream",
     "text": [
      "Так как уровень значимости фиксирован и такой же для всех выборок, то критическая область для всех случаев одна: {x|x > 1.6448536269514722}\n"
     ]
    },
    {
     "data": {
      "image/png": "[encoded data removed]",
      "text/plain": [
       "<Figure size 640x480 with 1 Axes>"
      ]
     },
     "metadata": {},
     "output_type": "display_data"
    }
   ],
   "source": [
    "# параметры нормального распределения\n",
    "m = len(\"Максим\")\n",
    "sig = len(\"Лежнин\")\n",
    "\n",
    "# гипотеза H_0\n",
    "m_0 = m\n",
    "\n",
    "# уровень значимости\n",
    "a = 0.05\n",
    "\n",
    "# критическая область (больше полученного значения)\n",
    "G_a = sts.norm(0, 1).ppf(1 - a)\n",
    "print(\"Так как уровень значимости фиксирован и такой же для всех выборок, то\",\n",
    "     f\"критическая область для всех случаев одна: {{x|x > {G_a}}}\")\n",
    "\n",
    "# размеры выборок\n",
    "sample_sizes = [30, 60, 120]\n",
    "\n",
    "# цвета будущих графиков\n",
    "colors = ['r', 'g', 'b']\n",
    "\n",
    "# массив оценок\n",
    "m_eval = np.linspace(m - 2, m + 5, 1000)\n",
    "\n",
    "# цикл для различных выборок\n",
    "for i in range(len(sample_sizes)):\n",
    "    # длина выборки\n",
    "    sample_size = sample_sizes[i]\n",
    "    \n",
    "    # нормальная выборка\n",
    "    sample = np.random.normal(m, sig, sample_size)\n",
    "\n",
    "    # визуализируем функцию мощности\n",
    "    plt.plot(m_eval, power_function(sample, m, sig, m_eval, a), color=colors[i],\n",
    "             label=f\"Длина выборки: {sample_size}\")\n",
    "\n",
    "# параметры визуализации\n",
    "plt.legend()\n",
    "plt.grid(True)"
   ]
  },
  {
   "cell_type": "markdown",
   "id": "b49d6ef2-ad25-4cd7-8c25-74287080ad23",
   "metadata": {},
   "source": [
    "Пусть есть две гипотезы: основная $H_0:\\ \\theta = \\theta_0$ и альтернативная $H_1:\\ \\theta = \\theta_1$. Функция мощности связана с ошибками первого и второго рода следующим образом:\n",
    "$$\\mathcal{M}(G_\\alpha,\\, \\theta_0) = \\alpha \\text{, где $\\alpha$ - ошибка первого рода}$$\n",
    "$$\\mathcal{M}(G_\\alpha,\\, \\theta_1) = 1 - \\alpha_2 \\text{, где $\\alpha_2$ - ошибка второго рода}$$"
   ]
  },
  {
   "cell_type": "markdown",
   "id": "6547667b-f8e2-4495-bf35-147ea58d4042",
   "metadata": {},
   "source": [
    "### Задание 4\n",
    "В урне содержатся неразличимые на ощупь черные и белые шары. Предполагается, что число черных и белых шаров в урне одинаково. Эта гипотеза принимается, если при извлечении 50 шаров (с возвращением) число черных шаров будет в пределах от 20 до 30.\n",
    "\n",
    "- Сформулируйте основную гипотезу, укажите статистику и критическую область критерий;\n",
    "- Опишите, в чем состоит ошибка первого рода, и вычислите ее вероятность;\n",
    "- Найдите аналитическое выражение зависимости вероятности ошибки второго рода от альтернативных значений доли черных шаров в выборке и постройте ее график."
   ]
  },
  {
   "cell_type": "markdown",
   "id": "0605a9ab-9407-4c42-b40c-81a06d025232",
   "metadata": {},
   "source": [
    "Пусть $Z(X_1,\\, ...,\\, X_n)$ - функция-статистика, $G_\\alpha,\\, G_{1 - \\alpha}$ - критическая область и ее дополнение соответственно.\n",
    "$$\n",
    "\\begin{gather*}\n",
    "X \\sim I(p) \\\\\n",
    "H_0:\\ p = 0.5 \\\\\n",
    "Z = \\frac{p^* - p_0}{\\sqrt{p_0q_0/n}} \\sim N(0,\\, 1),\\ p^* = \\frac{1}{n}\\sum_{i = 1}^n X_i \\\\\n",
    "20 \\leq \\sum_{i = 1}^{50} X_i \\leq 30 \\implies 0.4 \\leq p^* \\leq 0.6 \\\\\n",
    "G_{1 - \\alpha} = \\left[\\frac{0.4 - 0.5}{\\sqrt{0.5^2 / 50}},\\, \\frac{0.6 - 0.5}{\\sqrt{0.5^2 / 50}} \\right] = [-\\sqrt{2},\\, \\sqrt{2}] \\\\\n",
    "G_\\alpha = (-\\infty,\\, -\\sqrt{2}) \\cup (\\sqrt{2},\\, +\\infty)\n",
    "\\end{gather*}\n",
    "$$\n",
    "\n",
    "Теперь рассмотрим ошибки первого и второго рода:\n",
    "$$\n",
    "\\begin{gather*}\n",
    "\\alpha = P\\{Z \\in G_\\alpha | H_0\\} = P\\{Z < -\\sqrt{2}\\} + P\\{Z > \\sqrt{2}\\} = 1 - F_Z(\\sqrt{2}) + 1 - F_Z(\\sqrt{2}) = 2 - 2\\Phi(\\sqrt{2}) \\approx 0.1586 \\\\\n",
    "\\alpha_2 = P\\{Z \\in G_{1 - \\alpha} | H_1\\} = P\\{-\\sqrt{2} \\leq Z_{H_1} \\leq \\sqrt{2}\\} = P\\left\\{-\\sqrt{2} \\leq (Z + \\frac{p_0 - p_1}{\\sqrt{p_0q_0/n}}) \\frac{\\sqrt{p_0q_0}}{\\sqrt{p_1q_1}} \\leq \\sqrt{2}\\right\\}  = \\\\\n",
    "=  P\\left\\{-\\sqrt{2}\\frac{\\sqrt{p_1q_1}}{\\sqrt{p_0q_0}} + \\frac{p_1 - p_0}{\\sqrt{p_0q_0/n}} \\leq Z \\leq \\sqrt{2}\\frac{\\sqrt{p_1q_1}}{\\sqrt{p_0q_0}} + \\frac{p_1 - p_0}{\\sqrt{p_0q_0/n}}\\right\\} = \\Phi(2\\sqrt{2p_1q_1} + 10\\sqrt{2}(p_1 - 0.5)) - \\Phi(-2\\sqrt{2p_1q_1} + 10\\sqrt{2}(p_1 - 0.5))\n",
    "\\end{gather*}\n",
    "$$"
   ]
  },
  {
   "cell_type": "code",
   "execution_count": 8,
   "id": "ff18b167-5736-4511-9320-04845ce65254",
   "metadata": {},
   "outputs": [
    {
     "data": {
      "image/png": "[encoded data removed]",
      "text/plain": [
       "<Figure size 640x480 with 1 Axes>"
      ]
     },
     "metadata": {},
     "output_type": "display_data"
    }
   ],
   "source": [
    "# гипотеза H_0\n",
    "p_0 = 0.5\n",
    "\n",
    "# альтернативная гипотеза H_1 (для графика)\n",
    "p_1 = np.linspace(0, 1, 10000)\n",
    "\n",
    "# считаю ошибку второго рода\n",
    "d = 10 * np.sqrt(2) * (p_1 - 0.5)\n",
    "Phi_1 = sts.norm(0, 1).cdf(2 * np.sqrt(2 * p_1 * (1 - p_1)) + d)\n",
    "Phi_2 = sts.norm(0, 1).cdf(-2 * np.sqrt(2 * p_1 * (1 - p_1)) + d)\n",
    "a_2 = Phi_1 - Phi_2\n",
    "\n",
    "# визуализирую зависимость ошибки второго рода от альтернативного значения\n",
    "plt.plot(p_1, a_2)\n",
    "plt.grid(True)"
   ]
  }
 ],
 "metadata": {
  "kernelspec": {
   "display_name": "Python 3 (ipykernel)",
   "language": "python",
   "name": "python3"
  },
  "language_info": {
   "codemirror_mode": {
    "name": "ipython",
    "version": 3
   },
   "file_extension": ".py",
   "mimetype": "text/x-python",
   "name": "python",
   "nbconvert_exporter": "python",
   "pygments_lexer": "ipython3",
   "version": "3.11.6"
  }
 },
 "nbformat": 4,
 "nbformat_minor": 5
}
