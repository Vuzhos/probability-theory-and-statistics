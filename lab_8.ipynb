{
 "cells": [
  {
   "cell_type": "markdown",
   "id": "dc3171aa-84df-4e5d-89bf-fdc4aa769349",
   "metadata": {},
   "source": [
    "### Тема: Сравнение характеристик распределения двух генеральных совокупностей параметрическими методами\n",
    "\n",
    "**Выполнил**: Лежнин Максим Витальевич (ПМ-31)\n",
    "\n",
    "**Преподаватель**: Олейник Т.А., кафедра ВМ-1\n",
    "\n",
    "###### Практическая работа № **8**, вариант № **3**\n",
    "\n",
    "###### Осенний семестр, 2023 год\n",
    "\n",
    "###### МИЭТ, Зеленоград"
   ]
  },
  {
   "cell_type": "markdown",
   "id": "0c97edc8-6245-4ab6-81cd-c8627299b28c",
   "metadata": {},
   "source": [
    "### Библиотеки"
   ]
  },
  {
   "cell_type": "code",
   "execution_count": 1,
   "id": "dd4e0c1c-05c6-4e82-bb92-0e100f2d1a68",
   "metadata": {},
   "outputs": [],
   "source": [
    "import numpy as np\n",
    "import scipy.stats as sts\n",
    "import matplotlib.pyplot as plt\n",
    "import pandas as pd\n",
    "import statsmodels.api as sm\n",
    "import seaborn"
   ]
  },
  {
   "cell_type": "markdown",
   "id": "4a8e01af-90d9-47d2-96af-b75cb92b57bf",
   "metadata": {},
   "source": [
    "### Задание 1\n",
    "Сгенерируйте две выборки (A и B) различных объемов из нормально распределенных генеральных совокупностей с параметрами $m_A,\\, \\sigma_A$ и $m_B,\\, \\sigma_B$ (возьмите значения $m_A$ и $m_B$ близкими, но не равными, а $\\sigma_A$ и $\\sigma_B$ выберите такими, чтобы близки (но не равны) были их квадраты). Проверьте гипотезу о равенстве дисперсий по критерию Фишера (см. п. 2 подраздела 8.2) на уровне значимости 0,05. Сформулируйте выводы.\n",
    "\n",
    "Если гипотеза подтвердится, то сгенерируйте две другие выборки (C и D), для которых гипотеза отклонится (при необходимости поварьируйте параметры, поэкспериментируйте, чтобы добиться заданного результата).\n",
    "\n",
    "Если гипотеза о равенстве дисперсий выборок A и B будет отклонена, то сгенерируйте две другие выборки (C' и D'), для которых гипотеза подтвердится (при необходимости поварьируйте параметры, поэкспериментируйте, чтобы добиться заданного результата)."
   ]
  },
  {
   "cell_type": "code",
   "execution_count": 2,
   "id": "2540d339-1aeb-4f10-8809-0050469c9c77",
   "metadata": {},
   "outputs": [],
   "source": [
    "# тест Фишера на равенство дисперсий\n",
    "def f_test_for_var(sample_1, sample_2):\n",
    "    n_1 = len(sample_1)\n",
    "    n_2 = len(sample_2)\n",
    "    \n",
    "    S_1 = n_1 / (n_1 - 1) * np.var(sample_1)\n",
    "    S_2 = n_2 / (n_2 - 1) * np.var(sample_2)\n",
    "\n",
    "    if S_1 > S_2:\n",
    "        ssv = S_1 / S_2\n",
    "        pvalue = 2 * min(sts.f(n_1 - 1, n_2 - 1).cdf(ssv), \n",
    "              1 - sts.f(n_1 - 1, n_2 - 1).cdf(ssv))\n",
    "    else:\n",
    "        ssv = S_2 / S_1\n",
    "        pvalue = 2 * min(sts.f(n_2 - 1, n_1 - 1).cdf(ssv), \n",
    "              1 - sts.f(n_2 - 1, n_1 - 1).cdf(ssv))\n",
    "    return (ssv, pvalue)\n",
    "\n",
    "# красивый вывод результатов на экран\n",
    "def print_results(alpha, sample_1, sample_2):\n",
    "    test_results = f_test_for_var(sample_1, sample_2)\n",
    "\n",
    "    print(f\"Выборочная дисперсия первой выборки: {np.var(sample_1)}\")\n",
    "    print(f\"Выборочная дисперсия второй выборки: {np.var(sample_2)}\")\n",
    "    print(f\"Статистика: {test_results[0]}\")\n",
    "    print(f\"Значение p: {test_results[1]}\")\n",
    "    print()\n",
    "\n",
    "    if alpha < test_results[1]:\n",
    "        print(\"Гипотеза принимается!\")\n",
    "    else:\n",
    "        print(\"Гипотеза отклоняется!\")"
   ]
  },
  {
   "cell_type": "code",
   "execution_count": 3,
   "id": "acf6451b-e82f-4b4f-9e01-604dc08e7798",
   "metadata": {},
   "outputs": [
    {
     "name": "stdout",
     "output_type": "stream",
     "text": [
      "Выборочная дисперсия первой выборки: 9.313266907748163\n",
      "Выборочная дисперсия второй выборки: 9.370428350082632\n",
      "Статистика: 1.0056343155307612\n",
      "Значение p: 0.9232081260793084\n",
      "\n",
      "Гипотеза принимается!\n"
     ]
    }
   ],
   "source": [
    "# характеристики для первой выборки\n",
    "m_A = 5\n",
    "sig_A = 3\n",
    "sample_size_A = 1000\n",
    "\n",
    "# характеристики для второй выборки\n",
    "m_B = m_A + 0.2\n",
    "sig_B = np.sqrt(sig_A**2 + 0.5)\n",
    "sample_size_B = 2000\n",
    "\n",
    "# уровень значимости\n",
    "alpha = 0.05\n",
    "\n",
    "# наши выборки\n",
    "A = np.random.normal(m_A, sig_A, sample_size_A)\n",
    "B = np.random.normal(m_B, sig_B, sample_size_B)\n",
    "\n",
    "# вывод результатов на экран\n",
    "print_results(alpha, A, B)"
   ]
  },
  {
   "cell_type": "code",
   "execution_count": 4,
   "id": "34f23738-dd10-4061-b11a-35d4d73f2953",
   "metadata": {},
   "outputs": [
    {
     "name": "stdout",
     "output_type": "stream",
     "text": [
      "Выборочная дисперсия первой выборки: 8.46850400201933\n",
      "Выборочная дисперсия второй выборки: 9.983010966869708\n",
      "Статистика: 1.178250250812393\n",
      "Значение p: 0.003092173128787401\n",
      "\n",
      "Гипотеза отклоняется!\n"
     ]
    }
   ],
   "source": [
    "# гипотеза была принята, потому надо еще чуть увеличить\n",
    "# среднеквадратичное отклонение\n",
    "sig_B = round(np.sqrt(sig_A**2 + 0.5)) + 0.1\n",
    "\n",
    "# получаем новые выборки\n",
    "C = np.random.normal(m_A, sig_A, sample_size_A)\n",
    "D = np.random.normal(m_B, sig_B, sample_size_B)\n",
    "\n",
    "# вывод результатов на экран\n",
    "print_results(alpha, C, D)"
   ]
  },
  {
   "cell_type": "markdown",
   "id": "e896299e-eb96-461d-afcd-e22de2a51605",
   "metadata": {},
   "source": [
    "### Задание 2\n",
    "Для выполнения задания используйте пару выборок, смоделированных при выполнении задания 1, для которой гипотеза о\n",
    "равенстве дисперсий подтвердилась. Проверьте гипотезу о равенстве математических ожиданий. Укажите диапазон значений $\\alpha$, при которых гипотеза принимается."
   ]
  },
  {
   "cell_type": "code",
   "execution_count": 5,
   "id": "13ec5cbf-a110-43ba-99c5-57d1da59cd58",
   "metadata": {},
   "outputs": [],
   "source": [
    "# критерий на равенство мат ожиданий при положительном результате F-теста\n",
    "def mean_test_if_ftest(sample_1, sample_2):\n",
    "    n_1 = len(sample_1)\n",
    "    n_2 = len(sample_2)\n",
    "    \n",
    "    S_1 = n_1 / (n_1 - 1) * np.var(sample_1)\n",
    "    S_2 = n_2 / (n_2 - 1) * np.var(sample_2)\n",
    "    \n",
    "    ssv = (np.mean(sample_1) - np.mean(sample_2)) / np.sqrt((((n_1 - 1) * S_1 + \n",
    "                    (n_2 - 1) * S_2) / (n_1 + n_2 - 2)) * (1 / n_1 + 1 / n_2))\n",
    "\n",
    "    pvalue = 2 * min(sts.t(n_1 + n_2 - 2).cdf(ssv), 1 - sts.t(n_1 + n_2 - 2).cdf(ssv))\n",
    "    \n",
    "    return (ssv, pvalue)\n",
    "\n",
    "# красивый вывод на экран\n",
    "def printing_results(sample_1, sample_2, test):\n",
    "    test_results = test(sample_1, sample_2)\n",
    "\n",
    "    print(f\"Выборочное мат ожидание первой выборки: {np.mean(sample_1)}\")\n",
    "    print(f\"Выборочное мат ожидание второй выборки: {np.mean(sample_2)}\")\n",
    "    print(f\"Статистика: {test_results[0]}\")\n",
    "    print(f\"Значение p: {test_results[1]}\")\n",
    "    print()\n",
    "\n",
    "    print(f\"Гипотеза принимается при α < {test_results[1]}\")"
   ]
  },
  {
   "cell_type": "code",
   "execution_count": 6,
   "id": "eb106c41-3275-4315-945c-3321c5a22f8f",
   "metadata": {},
   "outputs": [
    {
     "name": "stdout",
     "output_type": "stream",
     "text": [
      "Выборочное мат ожидание первой выборки: 5.109669268807151\n",
      "Выборочное мат ожидание второй выборки: 5.185719473688975\n",
      "Статистика: -0.6419071601281596\n",
      "Значение p: 0.520982540919311\n",
      "\n",
      "Гипотеза принимается при α < 0.520982540919311\n"
     ]
    }
   ],
   "source": [
    "# полезный комментарий\n",
    "printing_results(A, B, mean_test_if_ftest)"
   ]
  },
  {
   "cell_type": "markdown",
   "id": "12c6a89c-afb2-4224-9d4b-ba72b5b42c04",
   "metadata": {},
   "source": [
    "### Задание 3\n",
    "Для выполнения этого задания используйте пару выборок, смоделированных при выполнении задания 1, для которой гипотеза\n",
    "о равенстве дисперсий была отклонена. Проверьте гипотезу о равенстве математических ожиданий. Укажите диапазон значений $\\alpha$, при которых гипотеза принимается."
   ]
  },
  {
   "cell_type": "code",
   "execution_count": 7,
   "id": "49aa31c0-84fa-4fe8-8408-b3800a017831",
   "metadata": {},
   "outputs": [],
   "source": [
    "# критерий на равенство мат ожиданий при отрицательном результате F-теста\n",
    "def welch_t_test(sample_1, sample_2):\n",
    "    n_1 = len(sample_1)\n",
    "    n_2 = len(sample_2)\n",
    "    \n",
    "    S_1 = n_1 / (n_1 - 1) * np.var(sample_1)\n",
    "    S_2 = n_2 / (n_2 - 1) * np.var(sample_2)\n",
    "\n",
    "    ssv = (np.mean(sample_1) - np.mean(sample_2)) / np.sqrt(S_1 / n_1 + S_2 / n_2)\n",
    "\n",
    "    k = (S_1 / n_1 + S_2 / n_2)**2 / ((S_1 / n_1)**2 / (n_1 - 1) + (S_2 / n_2)**2 / \n",
    "                                                                          (n_2 - 1))\n",
    "\n",
    "    pvalue = 2 * min(sts.t(k).cdf(ssv), 1 - sts.t(k).cdf(ssv))\n",
    "\n",
    "    return (ssv, pvalue)"
   ]
  },
  {
   "cell_type": "code",
   "execution_count": 8,
   "id": "f6464f7b-d439-4141-acab-5b4c590c47f7",
   "metadata": {},
   "outputs": [
    {
     "name": "stdout",
     "output_type": "stream",
     "text": [
      "Выборочное мат ожидание первой выборки: 4.973975187313621\n",
      "Выборочное мат ожидание второй выборки: 5.129589348755445\n",
      "Статистика: -1.3407551234665718\n",
      "Значение p: 0.180141615440855\n",
      "\n",
      "Гипотеза принимается при α < 0.180141615440855\n"
     ]
    }
   ],
   "source": [
    "# полезный комментарий\n",
    "printing_results(C, D, welch_t_test)"
   ]
  },
  {
   "cell_type": "markdown",
   "id": "cff759b5-85d0-4e10-b1f1-38d89852846f",
   "metadata": {},
   "source": [
    "### Задание 4\n",
    "В файлах «Данные 8_1» приведены массивы результатов 15 тестов, пройденных студентами двух потоков. Будем интерпретировать результаты, относящиеся к разным потокам, как две серии испытаний. Выберите в соответствии с вашим вариантом (варианты распределяются преподавателем) результаты выполнения одного из тестов. Интересующее нас событие M: студент успешно выполнил тест (получил не менее 67 % от максимального балла). Проверьте гипотезу об однородности выборок (равенстве вероятностей события М в двух потоках) (см. п. 5 подраздела 8.2)."
   ]
  },
  {
   "cell_type": "code",
   "execution_count": 9,
   "id": "61169eae-5e87-47f7-bc66-6816df494a73",
   "metadata": {},
   "outputs": [],
   "source": [
    "# конвертирую лист строк в лист float'ов\n",
    "def parse_sample(sample, ignoring=0):\n",
    "    new_sample = []\n",
    "    for i in sample:\n",
    "        if i == '-':\n",
    "            continue\n",
    "    \n",
    "        elif i == 0 and ignoring:\n",
    "            continue\n",
    "\n",
    "        new_sample.append(float(i))\n",
    "\n",
    "    return new_sample\n",
    "\n",
    "# критерий (второй) для проверки равенства выероятностей событий\n",
    "def test_for_equal_prob(sample_1, sample_2):\n",
    "    n_1 = len(sample_1)\n",
    "    n_2 = len(sample_2)\n",
    "    n = n_1 + n_2\n",
    "    \n",
    "    k_1 = sum([int(i >= 1) for i in sample_1])\n",
    "    k_2 = sum([int(i >= 1) for i in sample_2])\n",
    "    \n",
    "    m = min(((k_1 + k_2) * n_1 / n), ((k_1 + k_2) * n_2 / n), \n",
    "            (n - k_1 - k_2) * n_1 / n, (n - k_1 - k_2) * n_2 / n)\n",
    "\n",
    "    if m > 3:\n",
    "        ssv = n / (n_1 * n_2 * k_1 * k_2)\n",
    "        pvalue = 2 * min(sts.chi2(1).cdf(ssv), 1 - sts.chi2(1).cdf(ssv))\n",
    "\n",
    "    else:\n",
    "        return None\n",
    "\n",
    "    return (ssv, pvalue)\n",
    "\n",
    "# красивый вывод на экран\n",
    "def printing_results(sample_1, sample_2):\n",
    "    test_results = test_for_equal_prob(sample_1, sample_2)\n",
    "\n",
    "    n_1 = len(sample_1)\n",
    "    n_2 = len(sample_2)\n",
    "    k_1 = sum([int(i >= 1) for i in sample_1])\n",
    "    k_2 = sum([int(i >= 1) for i in sample_2])\n",
    "    \n",
    "    print(f\"Выборочная частота события M первой выборки: {k_1 / n_1}\")\n",
    "    print(f\"Выборочная частота события M второй выборки: {k_2 / n_2}\")\n",
    "    print(f\"Статистика: {test_results[0]}\")\n",
    "    print(f\"Значение p: {test_results[1]}\")\n",
    "    print()\n",
    "\n",
    "    print(f\"Гипотеза принимается при α < {test_results[1]}\")"
   ]
  },
  {
   "cell_type": "code",
   "execution_count": 10,
   "id": "aa4c02a0-28d9-44a6-a1bf-03d2a8f0dedb",
   "metadata": {},
   "outputs": [
    {
     "name": "stdout",
     "output_type": "stream",
     "text": [
      "Выборочная частота события M первой выборки: 0.7835051546391752\n",
      "Выборочная частота события M второй выборки: 0.7168141592920354\n",
      "Статистика: 3.1122215517607795e-06\n",
      "Значение p: 0.0028151729754487395\n",
      "\n",
      "Гипотеза принимается при α < 0.0028151729754487395\n"
     ]
    }
   ],
   "source": [
    "# номер варианта\n",
    "var = 3\n",
    "\n",
    "# обрабатывая данные\n",
    "data = pd.read_excel('Data_8_1.ods')\n",
    "table = pd.DataFrame(data)\n",
    "\n",
    "# получаю выборки\n",
    "sample_1 = parse_sample(table[table.columns[var]].dropna())\n",
    "sample_2 = parse_sample(table[table.columns[var + 17]].dropna())\n",
    "\n",
    "# вывожу результаты на экран\n",
    "printing_results(sample_1, sample_2)"
   ]
  }
 ],
 "metadata": {
  "kernelspec": {
   "display_name": "Python 3 (ipykernel)",
   "language": "python",
   "name": "python3"
  },
  "language_info": {
   "codemirror_mode": {
    "name": "ipython",
    "version": 3
   },
   "file_extension": ".py",
   "mimetype": "text/x-python",
   "name": "python",
   "nbconvert_exporter": "python",
   "pygments_lexer": "ipython3",
   "version": "3.11.6"
  }
 },
 "nbformat": 4,
 "nbformat_minor": 5
}
